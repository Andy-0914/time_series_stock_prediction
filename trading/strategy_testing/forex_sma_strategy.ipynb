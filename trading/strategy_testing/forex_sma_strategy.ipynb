{
 "cells": [
  {
   "cell_type": "code",
   "execution_count": 77,
   "metadata": {},
   "outputs": [],
   "source": [
    "from ib_insync import *\n",
    "import pandas as pd\n",
    "import numpy as np\n",
    "from IPython.display import display, clear_output\n",
    "util.startLoop()"
   ]
  },
  {
   "cell_type": "code",
   "execution_count": 78,
   "metadata": {},
   "outputs": [
    {
     "data": {
      "text/plain": [
       "<IB connected to localhost:7497 clientId=2>"
      ]
     },
     "execution_count": 78,
     "metadata": {},
     "output_type": "execute_result"
    }
   ],
   "source": [
    "ib = IB()\n",
    "ib.disconnect()\n",
    "ib.connect('localhost', 7497, clientId=2)"
   ]
  },
  {
   "cell_type": "code",
   "execution_count": 79,
   "metadata": {},
   "outputs": [],
   "source": [
    "# strategy parameters\n",
    "smaShort = 10\n",
    "smaLong = 50\n",
    "freq = \"1 min\"\n",
    "units = 1000\n",
    "contract = Forex(\"EURUSD\")\n",
    "ib.qualifyContracts(contract)\n",
    "cfd = CFD(\"EUR\", currency=\"USD\")\n",
    "ib.qualifyContracts(cfd)\n",
    "conID = cfd.conId\n"
   ]
  },
  {
   "cell_type": "code",
   "execution_count": 80,
   "metadata": {},
   "outputs": [
    {
     "data": {
      "text/plain": [
       "143916318"
      ]
     },
     "execution_count": 80,
     "metadata": {},
     "output_type": "execute_result"
    }
   ],
   "source": [
    "conID"
   ]
  },
  {
   "cell_type": "code",
   "execution_count": 81,
   "metadata": {},
   "outputs": [],
   "source": [
    "def execute_trade(target):\n",
    "    global currentPos\n",
    "\n",
    "    # 1. get current Position\n",
    "    try:\n",
    "        currentPos = [pos.position for pos in ib.positions() if pos.contract.conId == conID][0]\n",
    "        # print(f\"currentPos: {currentPos}\")\n",
    "    except:\n",
    "        currentPos = 0\n",
    "\n",
    "    # 2. identify required trades\n",
    "    trades = target - currentPos\n",
    "    print(f\"target: {target}\")\n",
    "    print(f\"currentPos: {currentPos}\")\n",
    "    print(f\"trades: {trades}\")\n",
    "\n",
    "    # 3. trade execution\n",
    "    if trades > 0:\n",
    "        side = \"BUY\"\n",
    "        order = MarketOrder(side, abs(trades))\n",
    "        trade = ib.placeOrder(cfd, order)\n",
    "\n",
    "    elif trades < 0:\n",
    "        side = \"SELL\"\n",
    "        order = MarketOrder(side, abs(trades))\n",
    "        trade = ib.placeOrder(cfd, order)\n",
    "    \n",
    "    else:\n",
    "        pass"
   ]
  },
  {
   "cell_type": "code",
   "execution_count": 82,
   "metadata": {},
   "outputs": [],
   "source": [
    "def onBarUpdate(bars, hasNewBar):\n",
    "    global df, lastBar\n",
    "\n",
    "    # print(f\"bars\")\n",
    "    # print(bars)\n",
    "    # print()\n",
    "    if bars[-1].date > lastBar:\n",
    "        lastBar = bars[-1].date\n",
    "    \n",
    "        # data processing\n",
    "        df = pd.DataFrame(bars)[[\"date\", \"open\", \"high\", \"low\", \"close\"]].iloc[:-1]\n",
    "        df.set_index(\"date\", inplace=True)\n",
    "\n",
    "        # print(\"original df\")\n",
    "        # display(df)\n",
    "\n",
    "        # trading strategy\n",
    "        df = df[[\"close\"]].copy()\n",
    "    \n",
    "        df[\"smaShort\"] = df[\"close\"].rolling(smaShort).mean()\n",
    "        df[\"smaLong\"] = df[\"close\"].rolling(smaLong).mean()\n",
    "        # print(\"sma df\")\n",
    "        # display(df)\n",
    "        df.dropna(inplace=True)\n",
    "        df[\"position\"] = np.where(df[\"smaShort\"] > df[\"smaLong\"], 1, -1)\n",
    "\n",
    "        # trading\n",
    "        target = df[\"position\"][-1] * units\n",
    "        execute_trade(target=target)\n",
    "\n",
    "        # display\n",
    "        clear_output(wait=True)\n",
    "        display(df)\n",
    "\n",
    "    else:\n",
    "        pass\n"
   ]
  },
  {
   "cell_type": "code",
   "execution_count": null,
   "metadata": {},
   "outputs": [
    {
     "data": {
      "text/html": [
       "<div>\n",
       "<style scoped>\n",
       "    .dataframe tbody tr th:only-of-type {\n",
       "        vertical-align: middle;\n",
       "    }\n",
       "\n",
       "    .dataframe tbody tr th {\n",
       "        vertical-align: top;\n",
       "    }\n",
       "\n",
       "    .dataframe thead th {\n",
       "        text-align: right;\n",
       "    }\n",
       "</style>\n",
       "<table border=\"1\" class=\"dataframe\">\n",
       "  <thead>\n",
       "    <tr style=\"text-align: right;\">\n",
       "      <th></th>\n",
       "      <th>close</th>\n",
       "      <th>smaShort</th>\n",
       "      <th>smaLong</th>\n",
       "      <th>position</th>\n",
       "    </tr>\n",
       "    <tr>\n",
       "      <th>date</th>\n",
       "      <th></th>\n",
       "      <th></th>\n",
       "      <th></th>\n",
       "      <th></th>\n",
       "    </tr>\n",
       "  </thead>\n",
       "  <tbody>\n",
       "    <tr>\n",
       "      <th>2024-05-14 22:04:00+00:00</th>\n",
       "      <td>1.081685</td>\n",
       "      <td>1.081723</td>\n",
       "      <td>1.081781</td>\n",
       "      <td>-1</td>\n",
       "    </tr>\n",
       "    <tr>\n",
       "      <th>2024-05-14 22:05:00+00:00</th>\n",
       "      <td>1.081680</td>\n",
       "      <td>1.081719</td>\n",
       "      <td>1.081777</td>\n",
       "      <td>-1</td>\n",
       "    </tr>\n",
       "    <tr>\n",
       "      <th>2024-05-14 22:06:00+00:00</th>\n",
       "      <td>1.081700</td>\n",
       "      <td>1.081718</td>\n",
       "      <td>1.081772</td>\n",
       "      <td>-1</td>\n",
       "    </tr>\n",
       "    <tr>\n",
       "      <th>2024-05-14 22:07:00+00:00</th>\n",
       "      <td>1.081715</td>\n",
       "      <td>1.081718</td>\n",
       "      <td>1.081767</td>\n",
       "      <td>-1</td>\n",
       "    </tr>\n",
       "    <tr>\n",
       "      <th>2024-05-14 22:08:00+00:00</th>\n",
       "      <td>1.081695</td>\n",
       "      <td>1.081707</td>\n",
       "      <td>1.081761</td>\n",
       "      <td>-1</td>\n",
       "    </tr>\n",
       "    <tr>\n",
       "      <th>...</th>\n",
       "      <td>...</td>\n",
       "      <td>...</td>\n",
       "      <td>...</td>\n",
       "      <td>...</td>\n",
       "    </tr>\n",
       "    <tr>\n",
       "      <th>2024-05-15 03:30:00+00:00</th>\n",
       "      <td>1.082680</td>\n",
       "      <td>1.082646</td>\n",
       "      <td>1.082555</td>\n",
       "      <td>1</td>\n",
       "    </tr>\n",
       "    <tr>\n",
       "      <th>2024-05-15 03:31:00+00:00</th>\n",
       "      <td>1.082715</td>\n",
       "      <td>1.082655</td>\n",
       "      <td>1.082559</td>\n",
       "      <td>1</td>\n",
       "    </tr>\n",
       "    <tr>\n",
       "      <th>2024-05-15 03:32:00+00:00</th>\n",
       "      <td>1.082730</td>\n",
       "      <td>1.082666</td>\n",
       "      <td>1.082561</td>\n",
       "      <td>1</td>\n",
       "    </tr>\n",
       "    <tr>\n",
       "      <th>2024-05-15 03:33:00+00:00</th>\n",
       "      <td>1.082725</td>\n",
       "      <td>1.082677</td>\n",
       "      <td>1.082565</td>\n",
       "      <td>1</td>\n",
       "    </tr>\n",
       "    <tr>\n",
       "      <th>2024-05-15 03:34:00+00:00</th>\n",
       "      <td>1.082725</td>\n",
       "      <td>1.082688</td>\n",
       "      <td>1.082570</td>\n",
       "      <td>1</td>\n",
       "    </tr>\n",
       "  </tbody>\n",
       "</table>\n",
       "<p>331 rows × 4 columns</p>\n",
       "</div>"
      ],
      "text/plain": [
       "                              close  smaShort   smaLong  position\n",
       "date                                                             \n",
       "2024-05-14 22:04:00+00:00  1.081685  1.081723  1.081781        -1\n",
       "2024-05-14 22:05:00+00:00  1.081680  1.081719  1.081777        -1\n",
       "2024-05-14 22:06:00+00:00  1.081700  1.081718  1.081772        -1\n",
       "2024-05-14 22:07:00+00:00  1.081715  1.081718  1.081767        -1\n",
       "2024-05-14 22:08:00+00:00  1.081695  1.081707  1.081761        -1\n",
       "...                             ...       ...       ...       ...\n",
       "2024-05-15 03:30:00+00:00  1.082680  1.082646  1.082555         1\n",
       "2024-05-15 03:31:00+00:00  1.082715  1.082655  1.082559         1\n",
       "2024-05-15 03:32:00+00:00  1.082730  1.082666  1.082561         1\n",
       "2024-05-15 03:33:00+00:00  1.082725  1.082677  1.082565         1\n",
       "2024-05-15 03:34:00+00:00  1.082725  1.082688  1.082570         1\n",
       "\n",
       "[331 rows x 4 columns]"
      ]
     },
     "metadata": {},
     "output_type": "display_data"
    },
    {
     "name": "stderr",
     "output_type": "stream",
     "text": [
      "Error 1100, reqId -1: Connectivity between IBKR and Trader Workstation has been lost.\n",
      "Error 10182, reqId 5: Failed to request live updates (disconnected).\n",
      "Error 1100, reqId -1: Connectivity between IBKR and Trader Workstation has been lost.\n",
      "Error 1102, reqId -1: Connectivity between IBKR and Trader Workstation has been restored - data maintained. The following farms are connected: hfarm; usfarm.nj; usfuture; cashfarm; eufarmnj; usfarm; euhmds; cashhmds; fundfarm; ushmds; secdefil. The following farms are not connected: jfarm.\n",
      "Error 1100, reqId -1: Connectivity between IBKR and Trader Workstation has been lost.\n",
      "Error 1102, reqId -1: Connectivity between IBKR and Trader Workstation has been restored - data maintained. The following farms are connected: usfarm.nj; usfuture; cashfarm; eufarmnj; usfarm; euhmds; cashhmds; fundfarm; ushmds; secdefil. The following farms are not connected: hfarm; jfarm.\n",
      "Error 1100, reqId -1: Connectivity between IBKR and Trader Workstation has been lost.\n",
      "Error 1102, reqId -1: Connectivity between IBKR and Trader Workstation has been restored - data maintained. All data farms are connected: hfarm; usfarm.nj; usfuture; jfarm; cashfarm; eufarmnj; usfarm; euhmds; cashhmds; fundfarm; ushmds; secdefil.\n",
      "Error 1100, reqId -1: Connectivity between IBKR and Trader Workstation has been lost.\n",
      "Error 1102, reqId -1: Connectivity between IBKR and Trader Workstation has been restored - data maintained. The following farms are connected: . The following farms are not connected: hfarm; usfarm.nj; usfuture; jfarm; cashfarm; eufarmnj; usfarm; euhmds; cashhmds; fundfarm; ushmds; secdefil.\n",
      "Error 1100, reqId -1: Connectivity between IBKR and Trader Workstation has been lost.\n",
      "Error 1102, reqId -1: Connectivity between IBKR and Trader Workstation has been restored - data maintained. The following farms are connected: usfarm.nj; usfuture; jfarm; cashfarm; eufarmnj; usfarm; euhmds; cashhmds; fundfarm; ushmds; secdefil. The following farms are not connected: hfarm.\n",
      "Error 1100, reqId -1: Connectivity between IBKR and Trader Workstation has been lost.\n",
      "Error 1102, reqId -1: Connectivity between IBKR and Trader Workstation has been restored - data maintained. All data farms are connected: hfarm; usfarm.nj; usfuture; jfarm; cashfarm; eufarmnj; usfarm; euhmds; cashhmds; fundfarm; ushmds; secdefil.\n"
     ]
    }
   ],
   "source": [
    "bars = ib.reqHistoricalData(\n",
    "        contract,\n",
    "        endDateTime=\"\",\n",
    "        durationStr=\"1 D\",\n",
    "        barSizeSetting=freq,\n",
    "        whatToShow=\"MIDPOINT\",\n",
    "        useRTH=True,\n",
    "        formatDate=2,\n",
    "        keepUpToDate=True)\n",
    "\n",
    "# print(bars)\n",
    "lastBar = bars[-1].date\n",
    "bars.updateEvent += onBarUpdate"
   ]
  },
  {
   "cell_type": "code",
   "execution_count": 74,
   "metadata": {},
   "outputs": [],
   "source": [
    "bars.updateEvent -= onBarUpdate"
   ]
  },
  {
   "cell_type": "code",
   "execution_count": null,
   "metadata": {},
   "outputs": [
    {
     "name": "stderr",
     "output_type": "stream",
     "text": [
      "Error 162, reqId 5: Historical Market Data Service error message:API historical data query cancelled: 5\n"
     ]
    }
   ],
   "source": [
    "ib.cancelHistoricalData(bars)"
   ]
  },
  {
   "cell_type": "code",
   "execution_count": 52,
   "metadata": {},
   "outputs": [],
   "source": [
    "ib.disconnect()"
   ]
  },
  {
   "cell_type": "code",
   "execution_count": null,
   "metadata": {},
   "outputs": [],
   "source": []
  }
 ],
 "metadata": {
  "kernelspec": {
   "display_name": "ib_trade_conda",
   "language": "python",
   "name": "python3"
  },
  "language_info": {
   "codemirror_mode": {
    "name": "ipython",
    "version": 3
   },
   "file_extension": ".py",
   "mimetype": "text/x-python",
   "name": "python",
   "nbconvert_exporter": "python",
   "pygments_lexer": "ipython3",
   "version": "3.11.9"
  }
 },
 "nbformat": 4,
 "nbformat_minor": 2
}
