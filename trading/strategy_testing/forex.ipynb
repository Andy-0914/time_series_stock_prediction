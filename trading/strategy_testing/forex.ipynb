{
 "cells": [
  {
   "cell_type": "code",
   "execution_count": 1,
   "metadata": {},
   "outputs": [],
   "source": [
    "from ib_insync import *\n",
    "import pandas as pd\n",
    "from IPython.display import display, clear_output\n",
    "util.startLoop()\n",
    "ib = IB()"
   ]
  },
  {
   "cell_type": "code",
   "execution_count": 2,
   "metadata": {},
   "outputs": [
    {
     "data": {
      "text/plain": [
       "<IB connected to localhost:7497 clientId=2>"
      ]
     },
     "execution_count": 2,
     "metadata": {},
     "output_type": "execute_result"
    }
   ],
   "source": [
    "# ib = IB()\n",
    "ib.connect('localhost', 7497, clientId=2)"
   ]
  },
  {
   "cell_type": "code",
   "execution_count": 3,
   "metadata": {},
   "outputs": [
    {
     "data": {
      "text/plain": [
       "[Forex('EURUSD', conId=12087792, exchange='IDEALPRO', localSymbol='EUR.USD', tradingClass='EUR.USD'),\n",
       " Forex('USDJPY', conId=15016059, exchange='IDEALPRO', localSymbol='USD.JPY', tradingClass='USD.JPY'),\n",
       " Forex('GBPUSD', conId=12087797, exchange='IDEALPRO', localSymbol='GBP.USD', tradingClass='GBP.USD')]"
      ]
     },
     "execution_count": 3,
     "metadata": {},
     "output_type": "execute_result"
    }
   ],
   "source": [
    "contracts = [Forex(pair) for pair in (\"EURUSD\", \"USDJPY\", \"GBPUSD\")]\n",
    "ib.qualifyContracts(*contracts)"
   ]
  },
  {
   "cell_type": "code",
   "execution_count": 4,
   "metadata": {},
   "outputs": [
    {
     "data": {
      "text/plain": [
       "Forex('EURUSD', conId=12087792, exchange='IDEALPRO', localSymbol='EUR.USD', tradingClass='EUR.USD')"
      ]
     },
     "execution_count": 4,
     "metadata": {},
     "output_type": "execute_result"
    }
   ],
   "source": [
    "contracts = [Forex(pair) for pair in ('EURUSD', 'USDJPY', 'GBPUSD', 'USDCHF', 'USDCAD', 'AUDUSD')]\n",
    "ib.qualifyContracts(*contracts)\n",
    "\n",
    "eurusd = contracts[0]\n",
    "eurusd"
   ]
  },
  {
   "cell_type": "code",
   "execution_count": 5,
   "metadata": {},
   "outputs": [],
   "source": [
    "for contract in contracts:\n",
    "    ib.reqMktData(contract, '', False, False)"
   ]
  },
  {
   "cell_type": "code",
   "execution_count": 6,
   "metadata": {},
   "outputs": [
    {
     "data": {
      "text/plain": [
       "Ticker(contract=Forex('EURUSD', conId=12087792, exchange='IDEALPRO', localSymbol='EUR.USD', tradingClass='EUR.USD'), time=datetime.datetime(2024, 5, 13, 2, 52, 34, 406051, tzinfo=datetime.timezone.utc), minTick=1e-05, bid=1.07706, bidSize=1000000.0, ask=1.07707, askSize=3000000.0, prevBidSize=2500000.0, prevAsk=1.07708, prevAskSize=2000000.0, high=1.07755, low=1.0766, close=1.0771)"
      ]
     },
     "execution_count": 6,
     "metadata": {},
     "output_type": "execute_result"
    }
   ],
   "source": [
    "ticker = ib.ticker(eurusd)\n",
    "ib.sleep(2)\n",
    "\n",
    "ticker"
   ]
  },
  {
   "cell_type": "code",
   "execution_count": 7,
   "metadata": {},
   "outputs": [],
   "source": [
    "df = pd.DataFrame(\n",
    "    index=[c.pair() for c in contracts],\n",
    "    columns=['bidSize', 'bid', 'ask', 'askSize', 'high', 'low', 'close'])\n",
    "\n",
    "def onPendingTickers(tickers):\n",
    "    for t in tickers:\n",
    "        df.loc[t.contract.pair()] = (t.bidSize, t.bid, t.ask, t.askSize, t.high, t.low, t.close)\n",
    "        clear_output(wait=True)\n",
    "        display(df)        \n",
    "\n",
    "\n",
    "# ib.sleep(30)\n",
    "# ib.pendingTickersEvent -= onPendingTickers"
   ]
  },
  {
   "cell_type": "code",
   "execution_count": null,
   "metadata": {},
   "outputs": [
    {
     "data": {
      "text/html": [
       "<div>\n",
       "<style scoped>\n",
       "    .dataframe tbody tr th:only-of-type {\n",
       "        vertical-align: middle;\n",
       "    }\n",
       "\n",
       "    .dataframe tbody tr th {\n",
       "        vertical-align: top;\n",
       "    }\n",
       "\n",
       "    .dataframe thead th {\n",
       "        text-align: right;\n",
       "    }\n",
       "</style>\n",
       "<table border=\"1\" class=\"dataframe\">\n",
       "  <thead>\n",
       "    <tr style=\"text-align: right;\">\n",
       "      <th></th>\n",
       "      <th>bidSize</th>\n",
       "      <th>bid</th>\n",
       "      <th>ask</th>\n",
       "      <th>askSize</th>\n",
       "      <th>high</th>\n",
       "      <th>low</th>\n",
       "      <th>close</th>\n",
       "    </tr>\n",
       "  </thead>\n",
       "  <tbody>\n",
       "    <tr>\n",
       "      <th>EURUSD</th>\n",
       "      <td>2000000.0</td>\n",
       "      <td>1.07717</td>\n",
       "      <td>1.07719</td>\n",
       "      <td>2000000.0</td>\n",
       "      <td>1.07755</td>\n",
       "      <td>1.0766</td>\n",
       "      <td>1.0771</td>\n",
       "    </tr>\n",
       "    <tr>\n",
       "      <th>USDJPY</th>\n",
       "      <td>2000000.0</td>\n",
       "      <td>155.718</td>\n",
       "      <td>155.722</td>\n",
       "      <td>1000000.0</td>\n",
       "      <td>155.96</td>\n",
       "      <td>155.505</td>\n",
       "      <td>155.78</td>\n",
       "    </tr>\n",
       "    <tr>\n",
       "      <th>GBPUSD</th>\n",
       "      <td>1000000.0</td>\n",
       "      <td>1.25253</td>\n",
       "      <td>1.25256</td>\n",
       "      <td>1500000.0</td>\n",
       "      <td>1.25275</td>\n",
       "      <td>1.25175</td>\n",
       "      <td>1.2525</td>\n",
       "    </tr>\n",
       "    <tr>\n",
       "      <th>USDCHF</th>\n",
       "      <td>1000000.0</td>\n",
       "      <td>0.90647</td>\n",
       "      <td>0.90653</td>\n",
       "      <td>2000000.0</td>\n",
       "      <td>0.9077</td>\n",
       "      <td>0.90565</td>\n",
       "      <td>0.90645</td>\n",
       "    </tr>\n",
       "    <tr>\n",
       "      <th>USDCAD</th>\n",
       "      <td>1000000.0</td>\n",
       "      <td>1.36806</td>\n",
       "      <td>1.36811</td>\n",
       "      <td>1000000.0</td>\n",
       "      <td>1.369</td>\n",
       "      <td>1.3669</td>\n",
       "      <td>1.3673</td>\n",
       "    </tr>\n",
       "    <tr>\n",
       "      <th>AUDUSD</th>\n",
       "      <td>8000000.0</td>\n",
       "      <td>0.6598</td>\n",
       "      <td>0.65983</td>\n",
       "      <td>2000000.0</td>\n",
       "      <td>0.66065</td>\n",
       "      <td>0.65855</td>\n",
       "      <td>0.6603</td>\n",
       "    </tr>\n",
       "  </tbody>\n",
       "</table>\n",
       "</div>"
      ],
      "text/plain": [
       "          bidSize      bid      ask    askSize     high      low    close\n",
       "EURUSD  2000000.0  1.07717  1.07719  2000000.0  1.07755   1.0766   1.0771\n",
       "USDJPY  2000000.0  155.718  155.722  1000000.0   155.96  155.505   155.78\n",
       "GBPUSD  1000000.0  1.25253  1.25256  1500000.0  1.25275  1.25175   1.2525\n",
       "USDCHF  1000000.0  0.90647  0.90653  2000000.0   0.9077  0.90565  0.90645\n",
       "USDCAD  1000000.0  1.36806  1.36811  1000000.0    1.369   1.3669   1.3673\n",
       "AUDUSD  8000000.0   0.6598  0.65983  2000000.0  0.66065  0.65855   0.6603"
      ]
     },
     "metadata": {},
     "output_type": "display_data"
    }
   ],
   "source": [
    "ib.pendingTickersEvent += onPendingTickers"
   ]
  },
  {
   "cell_type": "code",
   "execution_count": 9,
   "metadata": {},
   "outputs": [],
   "source": [
    "ib.pendingTickersEvent -= onPendingTickers"
   ]
  },
  {
   "cell_type": "code",
   "execution_count": 20,
   "metadata": {},
   "outputs": [],
   "source": [
    "bars = ib.reqHistoricalData(\n",
    "    contract=eurusd,\n",
    "    endDateTime=\"\",\n",
    "    durationStr=\"60 S\",\n",
    "    barSizeSetting=\"10 secs\",\n",
    "    whatToShow=\"MIDPOINT\",\n",
    "    useRTH=False,\n",
    "    formatDate=True,\n",
    "    keepUpToDate=True\n",
    ")"
   ]
  },
  {
   "cell_type": "code",
   "execution_count": 29,
   "metadata": {},
   "outputs": [
    {
     "data": {
      "text/html": [
       "<div>\n",
       "<style scoped>\n",
       "    .dataframe tbody tr th:only-of-type {\n",
       "        vertical-align: middle;\n",
       "    }\n",
       "\n",
       "    .dataframe tbody tr th {\n",
       "        vertical-align: top;\n",
       "    }\n",
       "\n",
       "    .dataframe thead th {\n",
       "        text-align: right;\n",
       "    }\n",
       "</style>\n",
       "<table border=\"1\" class=\"dataframe\">\n",
       "  <thead>\n",
       "    <tr style=\"text-align: right;\">\n",
       "      <th></th>\n",
       "      <th>date</th>\n",
       "      <th>open</th>\n",
       "      <th>high</th>\n",
       "      <th>low</th>\n",
       "      <th>close</th>\n",
       "      <th>volume</th>\n",
       "      <th>average</th>\n",
       "      <th>barCount</th>\n",
       "    </tr>\n",
       "  </thead>\n",
       "  <tbody>\n",
       "    <tr>\n",
       "      <th>0</th>\n",
       "      <td>2024-05-12 22:59:30-04:00</td>\n",
       "      <td>1.077150</td>\n",
       "      <td>1.077150</td>\n",
       "      <td>1.077150</td>\n",
       "      <td>1.077150</td>\n",
       "      <td>-1.0</td>\n",
       "      <td>-1.0</td>\n",
       "      <td>-1</td>\n",
       "    </tr>\n",
       "    <tr>\n",
       "      <th>1</th>\n",
       "      <td>2024-05-12 22:59:40-04:00</td>\n",
       "      <td>1.077150</td>\n",
       "      <td>1.077150</td>\n",
       "      <td>1.077125</td>\n",
       "      <td>1.077140</td>\n",
       "      <td>-1.0</td>\n",
       "      <td>-1.0</td>\n",
       "      <td>-1</td>\n",
       "    </tr>\n",
       "    <tr>\n",
       "      <th>2</th>\n",
       "      <td>2024-05-12 22:59:50-04:00</td>\n",
       "      <td>1.077140</td>\n",
       "      <td>1.077140</td>\n",
       "      <td>1.077125</td>\n",
       "      <td>1.077130</td>\n",
       "      <td>-1.0</td>\n",
       "      <td>-1.0</td>\n",
       "      <td>-1</td>\n",
       "    </tr>\n",
       "    <tr>\n",
       "      <th>3</th>\n",
       "      <td>2024-05-12 23:00:00-04:00</td>\n",
       "      <td>1.077130</td>\n",
       "      <td>1.077130</td>\n",
       "      <td>1.077105</td>\n",
       "      <td>1.077125</td>\n",
       "      <td>-1.0</td>\n",
       "      <td>-1.0</td>\n",
       "      <td>-1</td>\n",
       "    </tr>\n",
       "    <tr>\n",
       "      <th>4</th>\n",
       "      <td>2024-05-12 23:00:10-04:00</td>\n",
       "      <td>1.077125</td>\n",
       "      <td>1.077125</td>\n",
       "      <td>1.077105</td>\n",
       "      <td>1.077110</td>\n",
       "      <td>-1.0</td>\n",
       "      <td>-1.0</td>\n",
       "      <td>-1</td>\n",
       "    </tr>\n",
       "    <tr>\n",
       "      <th>5</th>\n",
       "      <td>2024-05-12 23:00:20-04:00</td>\n",
       "      <td>1.077110</td>\n",
       "      <td>1.077110</td>\n",
       "      <td>1.077105</td>\n",
       "      <td>1.077105</td>\n",
       "      <td>-1.0</td>\n",
       "      <td>-1.0</td>\n",
       "      <td>-1</td>\n",
       "    </tr>\n",
       "    <tr>\n",
       "      <th>6</th>\n",
       "      <td>2024-05-12 23:00:30-04:00</td>\n",
       "      <td>1.077110</td>\n",
       "      <td>1.077110</td>\n",
       "      <td>1.077090</td>\n",
       "      <td>1.077105</td>\n",
       "      <td>-1.0</td>\n",
       "      <td>-1.0</td>\n",
       "      <td>-1</td>\n",
       "    </tr>\n",
       "    <tr>\n",
       "      <th>7</th>\n",
       "      <td>2024-05-12 23:00:40-04:00</td>\n",
       "      <td>1.077105</td>\n",
       "      <td>1.077105</td>\n",
       "      <td>1.077030</td>\n",
       "      <td>1.077030</td>\n",
       "      <td>-1.0</td>\n",
       "      <td>-1.0</td>\n",
       "      <td>-1</td>\n",
       "    </tr>\n",
       "    <tr>\n",
       "      <th>8</th>\n",
       "      <td>2024-05-12 23:00:50-04:00</td>\n",
       "      <td>1.077030</td>\n",
       "      <td>1.077045</td>\n",
       "      <td>1.077030</td>\n",
       "      <td>1.077030</td>\n",
       "      <td>-1.0</td>\n",
       "      <td>-1.0</td>\n",
       "      <td>-1</td>\n",
       "    </tr>\n",
       "    <tr>\n",
       "      <th>9</th>\n",
       "      <td>2024-05-12 23:01:00-04:00</td>\n",
       "      <td>1.077030</td>\n",
       "      <td>1.077060</td>\n",
       "      <td>1.077030</td>\n",
       "      <td>1.077060</td>\n",
       "      <td>-1.0</td>\n",
       "      <td>-1.0</td>\n",
       "      <td>-1</td>\n",
       "    </tr>\n",
       "    <tr>\n",
       "      <th>10</th>\n",
       "      <td>2024-05-12 23:01:10-04:00</td>\n",
       "      <td>1.077060</td>\n",
       "      <td>1.077070</td>\n",
       "      <td>1.077060</td>\n",
       "      <td>1.077060</td>\n",
       "      <td>-1.0</td>\n",
       "      <td>-1.0</td>\n",
       "      <td>-1</td>\n",
       "    </tr>\n",
       "    <tr>\n",
       "      <th>11</th>\n",
       "      <td>2024-05-12 23:01:20-04:00</td>\n",
       "      <td>1.077060</td>\n",
       "      <td>1.077060</td>\n",
       "      <td>1.077060</td>\n",
       "      <td>1.077060</td>\n",
       "      <td>-1.0</td>\n",
       "      <td>-1.0</td>\n",
       "      <td>-1</td>\n",
       "    </tr>\n",
       "  </tbody>\n",
       "</table>\n",
       "</div>"
      ],
      "text/plain": [
       "                        date      open      high       low     close  volume  \\\n",
       "0  2024-05-12 22:59:30-04:00  1.077150  1.077150  1.077150  1.077150    -1.0   \n",
       "1  2024-05-12 22:59:40-04:00  1.077150  1.077150  1.077125  1.077140    -1.0   \n",
       "2  2024-05-12 22:59:50-04:00  1.077140  1.077140  1.077125  1.077130    -1.0   \n",
       "3  2024-05-12 23:00:00-04:00  1.077130  1.077130  1.077105  1.077125    -1.0   \n",
       "4  2024-05-12 23:00:10-04:00  1.077125  1.077125  1.077105  1.077110    -1.0   \n",
       "5  2024-05-12 23:00:20-04:00  1.077110  1.077110  1.077105  1.077105    -1.0   \n",
       "6  2024-05-12 23:00:30-04:00  1.077110  1.077110  1.077090  1.077105    -1.0   \n",
       "7  2024-05-12 23:00:40-04:00  1.077105  1.077105  1.077030  1.077030    -1.0   \n",
       "8  2024-05-12 23:00:50-04:00  1.077030  1.077045  1.077030  1.077030    -1.0   \n",
       "9  2024-05-12 23:01:00-04:00  1.077030  1.077060  1.077030  1.077060    -1.0   \n",
       "10 2024-05-12 23:01:10-04:00  1.077060  1.077070  1.077060  1.077060    -1.0   \n",
       "11 2024-05-12 23:01:20-04:00  1.077060  1.077060  1.077060  1.077060    -1.0   \n",
       "\n",
       "    average  barCount  \n",
       "0      -1.0        -1  \n",
       "1      -1.0        -1  \n",
       "2      -1.0        -1  \n",
       "3      -1.0        -1  \n",
       "4      -1.0        -1  \n",
       "5      -1.0        -1  \n",
       "6      -1.0        -1  \n",
       "7      -1.0        -1  \n",
       "8      -1.0        -1  \n",
       "9      -1.0        -1  \n",
       "10     -1.0        -1  \n",
       "11     -1.0        -1  "
      ]
     },
     "execution_count": 29,
     "metadata": {},
     "output_type": "execute_result"
    }
   ],
   "source": [
    "pd.DataFrame(bars)"
   ]
  },
  {
   "cell_type": "code",
   "execution_count": null,
   "metadata": {},
   "outputs": [
    {
     "name": "stderr",
     "output_type": "stream",
     "text": [
      "Error 162, reqId 23: Historical Market Data Service error message:API historical data query cancelled: 23\n"
     ]
    }
   ],
   "source": [
    "ib.cancelHistoricalData(bars)"
   ]
  },
  {
   "cell_type": "code",
   "execution_count": 30,
   "metadata": {},
   "outputs": [],
   "source": [
    "ib.disconnect()"
   ]
  },
  {
   "cell_type": "code",
   "execution_count": null,
   "metadata": {},
   "outputs": [],
   "source": []
  }
 ],
 "metadata": {
  "kernelspec": {
   "display_name": "Python 3.11.9 ('ib_trade_conda')",
   "language": "python",
   "name": "python3"
  },
  "language_info": {
   "codemirror_mode": {
    "name": "ipython",
    "version": 3
   },
   "file_extension": ".py",
   "mimetype": "text/x-python",
   "name": "python",
   "nbconvert_exporter": "python",
   "pygments_lexer": "ipython3",
   "version": "3.11.9"
  },
  "vscode": {
   "interpreter": {
    "hash": "34ab0980d28397aea0b822a94ce0a42fe8de368cfbda8f6912ac7f39e68b1712"
   }
  }
 },
 "nbformat": 4,
 "nbformat_minor": 2
}
